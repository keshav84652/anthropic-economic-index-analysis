{
 "cells": [
  {
   "cell_type": "markdown",
   "metadata": {},
   "source": [
    "# Exploratory Analysis of Anthropic Economic Index\n",
    "\n",
    "This notebook provides an initial exploration of the Anthropic Economic Index dataset, which offers insights into how AI is being incorporated into real-world tasks across different occupations."
   ]
  },
  {
   "cell_type": "markdown",
   "metadata": {},
   "source": [
    "## Setup and Data Loading"
   ]
  },
  {
   "cell_type": "code",
   "execution_count": null,
   "metadata": {},
   "source": [
    "import os\n",
    "import pandas as pd\n",
    "import numpy as np\n",
    "import matplotlib.pyplot as plt\n",
    "import seaborn as sns\n",
    "\n",
    "# Set plotting style\n",
    "plt.style.use('seaborn-v0_8-whitegrid')\n",
    "sns.set_palette('colorblind')\n",
    "\n",
    "# Display settings\n",
    "pd.set_option('display.max_columns', None)\n",
    "pd.set_option('display.max_rows', 100)\n",
    "pd.set_option('display.width', 1000)"
   ]
  },
  {
   "cell_type": "code",
   "execution_count": null,
   "metadata": {},
   "source": [
    "# Define paths to data files\n",
    "DATA_DIR = '../data/raw/'\n",
    "\n",
    "# Load the key datasets\n",
    "auto_aug_task = pd.read_csv(DATA_DIR + 'automation_vs_augmentation_by_task.csv')\n",
    "soc_structure = pd.read_csv(DATA_DIR + 'SOC_Structure.csv')\n",
    "onet_tasks = pd.read_csv(DATA_DIR + 'onet_task_statements.csv')\n",
    "thinking_fractions = pd.read_csv(DATA_DIR + 'task_thinking_fractions.csv')\n",
    "cluster_data = pd.read_csv(DATA_DIR + 'cluster_level_dataset.tsv', sep='\\t')"
   ]
  },
  {
   "cell_type": "markdown",
   "metadata": {},
   "source": [
    "## Exploring the Datasets\n",
    "Let's first get a sense of what each dataset contains."
   ]
  },
  {
   "cell_type": "markdown",
   "metadata": {},
   "source": [
    "### Automation vs. Augmentation by Task"
   ]
  },
  {
   "cell_type": "code",
   "execution_count": null,
   "metadata": {},
   "source": [
    "print(f\"Shape: {auto_aug_task.shape}\")\n",
    "auto_aug_task.head()"
   ]
  },
  {
   "cell_type": "code",
   "execution_count": null,
   "metadata": {},
   "source": [
    "# Summary statistics\n",
    "auto_aug_task.describe()"
   ]
  },
  {
   "cell_type": "markdown",
   "metadata": {},
   "source": [
    "### SOC Structure"
   ]
  },
  {
   "cell_type": "code",
   "execution_count": null,
   "metadata": {},
   "source": [
    "print(f\"Shape: {soc_structure.shape}\")\n",
    "soc_structure.head()"
   ]
  },
  {
   "cell_type": "markdown",
   "metadata": {},
   "source": [
    "### O*NET Task Statements"
   ]
  },
  {
   "cell_type": "code",
   "execution_count": null,
   "metadata": {},
   "source": [
    "print(f\"Shape: {onet_tasks.shape}\")\n",
    "onet_tasks.head()"
   ]
  },
  {
   "cell_type": "markdown",
   "metadata": {},
   "source": [
    "### Task Thinking Fractions"
   ]
  },
  {
   "cell_type": "code",
   "execution_count": null,
   "metadata": {},
   "source": [
    "print(f\"Shape: {thinking_fractions.shape}\")\n",
    "thinking_fractions.head()"
   ]
  },
  {
   "cell_type": "markdown",
   "metadata": {},
   "source": [
    "### Cluster Level Data"
   ]
  },
  {
   "cell_type": "code",
   "execution_count": null,
   "metadata": {},
   "source": [
    "print(f\"Shape: {cluster_data.shape}\")\n",
    "cluster_data.head()"
   ]
  },
  {
   "cell_type": "markdown",
   "metadata": {},
   "source": [
    "## Initial Visualizations\n",
    "Let's create some initial visualizations to understand the data better."
   ]
  },
  {
   "cell_type": "markdown",
   "metadata": {},
   "source": [
    "### Distribution of Automation vs. Augmentation Patterns"
   ]
  },
  {
   "cell_type": "code",
   "execution_count": null,
   "metadata": {},
   "source": [
    "# Calculate the mean values for each collaboration pattern\n",
    "pattern_means = auto_aug_task[['directive', 'feedback_loop', 'validation', \n",
    "                            'task_iteration', 'learning', 'filtered']].mean()\n",
    "\n",
    "# Create a bar plot\n",
    "plt.figure(figsize=(10, 6))\n",
    "sns.barplot(x=pattern_means.index, y=pattern_means.values)\n",
    "plt.title('Average Distribution of Collaboration Patterns Across All Tasks', fontsize=14)\n",
    "plt.xlabel('Collaboration Pattern', fontsize=12)\n",
    "plt.ylabel('Mean Value', fontsize=12)\n",
    "plt.xticks(rotation=45)\n",
    "plt.tight_layout()\n",
    "plt.show()"
   ]
  },
  {
   "cell_type": "markdown",
   "metadata": {},
   "source": [
    "### Top Tasks by Automation Potential"
   ]
  },
  {
   "cell_type": "code",
   "execution_count": null,
   "metadata": {},
   "source": [
    "# Calculate automation score (directive + feedback_loop)\n",
    "auto_aug_task['automation_score'] = auto_aug_task['directive'] + auto_aug_task['feedback_loop']\n",
    "\n",
    "# Get top 10 tasks by automation potential\n",
    "top_automation = auto_aug_task.nlargest(10, 'automation_score')\n",
    "\n",
    "# Create a horizontal bar plot\n",
    "plt.figure(figsize=(12, 8))\n",
    "sns.barplot(x='automation_score', y='task_name', data=top_automation, orient='h')\n",
    "plt.title('Top 10 Tasks by Automation Potential', fontsize=14)\n",
    "plt.xlabel('Automation Score (directive + feedback_loop)', fontsize=12)\n",
    "plt.ylabel('Task Name', fontsize=12)\n",
    "plt.tight_layout()\n",
    "plt.show()"
   ]
  },
  {
   "cell_type": "markdown",
   "metadata": {},
   "source": [
    "### Top Tasks by Augmentation Potential"
   ]
  },
  {
   "cell_type": "code",
   "execution_count": null,
   "metadata": {},
   "source": [
    "# Calculate augmentation score (validation + task_iteration + learning)\n",
    "auto_aug_task['augmentation_score'] = (auto_aug_task['validation'] + \n",
    "                                     auto_aug_task['task_iteration'] + \n",
    "                                     auto_aug_task['learning'])\n",
    "\n",
    "# Get top 10 tasks by augmentation potential\n",
    "top_augmentation = auto_aug_task.nlargest(10, 'augmentation_score')\n",
    "\n",
    "# Create a horizontal bar plot\n",
    "plt.figure(figsize=(12, 8))\n",
    "sns.barplot(x='augmentation_score', y='task_name', data=top_augmentation, orient='h')\n",
    "plt.title('Top 10 Tasks by Augmentation Potential', fontsize=14)\n",
    "plt.xlabel('Augmentation Score (validation + task_iteration + learning)', fontsize=12)\n",
    "plt.ylabel('Task Name', fontsize=12)\n",
    "plt.tight_layout()\n",
    "plt.show()"
   ]
  },
  {
   "cell_type": "markdown",
   "metadata": {},
   "source": [
    "### Distribution of Thinking Fractions"
   ]
  },
  {
   "cell_type": "code",
   "execution_count": null,
   "metadata": {},
   "source": [
    "plt.figure(figsize=(10, 6))\n",
    "sns.histplot(thinking_fractions['thinking_fraction'], bins=30, kde=True)\n",
    "plt.title('Distribution of Thinking Fractions Across Tasks', fontsize=14)\n",
    "plt.xlabel('Thinking Fraction', fontsize=12)\n",
    "plt.ylabel('Count', fontsize=12)\n",
    "plt.tight_layout()\n",
    "plt.show()"
   ]
  },
  {
   "cell_type": "markdown",
   "metadata": {},
   "source": [
    "### Top Tasks Requiring Extended Thinking"
   ]
  },
  {
   "cell_type": "code",
   "execution_count": null,
   "metadata": {},
   "source": [
    "# Get top 10 tasks by thinking fraction\n",
    "top_thinking = thinking_fractions.nlargest(10, 'thinking_fraction')\n",
    "\n",
    "# Create a horizontal bar plot\n",
    "plt.figure(figsize=(12, 8))\n",
    "sns.barplot(x='thinking_fraction', y='task_name', data=top_thinking, orient='h')\n",
    "plt.title('Top 10 Tasks Requiring Extended Thinking', fontsize=14)\n",
    "plt.xlabel('Thinking Fraction', fontsize=12)\n",
    "plt.ylabel('Task Name', fontsize=12)\n",
    "plt.tight_layout()\n",
    "plt.show()"
   ]
  },
  {
   "cell_type": "markdown",
   "metadata": {},
   "source": [
    "## Cluster Analysis\n",
    "Let's explore the hierarchical clusters in the dataset."
   ]
  },
  {
   "cell_type": "code",
   "execution_count": null,
   "metadata": {},
   "source": [
    "# Look at the distribution of top-level clusters\n",
    "cluster_level2_counts = cluster_data['cluster_name_2'].value_counts()\n",
    "\n",
    "plt.figure(figsize=(12, 8))\n",
    "sns.barplot(x=cluster_level2_counts.values, y=cluster_level2_counts.index)\n",
    "plt.title('Distribution of Top-Level Clusters', fontsize=14)\n",
    "plt.xlabel('Count', fontsize=12)\n",
    "plt.ylabel('Cluster Name', fontsize=12)\n",
    "plt.tight_layout()\n",
    "plt.show()"
   ]
  },
  {
   "cell_type": "markdown",
   "metadata": {},
   "source": [
    "## Next Steps\n",
    "Based on this initial exploration, we can pursue several directions for further analysis:\n",
    "\n",
    "1. Analyze the relationship between occupations and automation/augmentation patterns\n",
    "2. Explore correlations between extended thinking usage and task types\n",
    "3. Conduct detailed cluster analysis to understand task relationships\n",
    "4. Create visualizations to show the economic impact by sector\n",
    "\n",
    "These analyses will be pursued in subsequent notebooks."
   ]
  }
 ],
 "metadata": {
  "kernelspec": {
   "display_name": "Python 3",
   "language": "python",
   "name": "python3"
  },
  "language_info": {
   "codemirror_mode": {
    "name": "ipython",
    "version": 3
   },
   "file_extension": ".py",
   "mimetype": "text/x-python",
   "name": "python",
   "nbconvert_exporter": "python",
   "pygments_lexer": "ipython3",
   "version": "3.9.7"
  }
 },
 "nbformat": 4,
 "nbformat_minor": 4
}
